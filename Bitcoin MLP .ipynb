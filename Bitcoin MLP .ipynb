{
 "cells": [
  {
   "cell_type": "markdown",
   "metadata": {
    "id": "89a3m4P3r6E6"
   },
   "source": [
    "#### Importing Libraries"
   ]
  },
  {
   "cell_type": "code",
   "execution_count": 1,
   "metadata": {
    "executionInfo": {
     "elapsed": 11,
     "status": "ok",
     "timestamp": 1624901717549,
     "user": {
      "displayName": "Shagun Bansal",
      "photoUrl": "https://lh3.googleusercontent.com/a-/AOh14GjqBi6cM9_0fHpvyYMvI8RIc3duBQwhLN5t1Kr14-g=s64",
      "userId": "17162832814633229121"
     },
     "user_tz": -330
    },
    "id": "RGBq8e9Rr3jL"
   },
   "outputs": [],
   "source": [
    "import pandas as pd\n",
    "import numpy as np\n",
    "import matplotlib.pyplot as plt"
   ]
  },
  {
   "cell_type": "markdown",
   "metadata": {
    "id": "sIGitNG2rjEX"
   },
   "source": [
    "#### Loading Bitcoin Dataset"
   ]
  },
  {
   "cell_type": "code",
   "execution_count": 2,
   "metadata": {
    "colab": {
     "base_uri": "https://localhost:8080/",
     "height": 204
    },
    "executionInfo": {
     "elapsed": 581,
     "status": "ok",
     "timestamp": 1624435475694,
     "user": {
      "displayName": "Shagun Bansal",
      "photoUrl": "https://lh3.googleusercontent.com/a-/AOh14GjqBi6cM9_0fHpvyYMvI8RIc3duBQwhLN5t1Kr14-g=s64",
      "userId": "17162832814633229121"
     },
     "user_tz": -330
    },
    "id": "-N-a709L7PzD",
    "outputId": "2aa054a7-8d28-4126-ff22-927d89ee7b72"
   },
   "outputs": [
    {
     "data": {
      "text/html": [
       "<div>\n",
       "<style scoped>\n",
       "    .dataframe tbody tr th:only-of-type {\n",
       "        vertical-align: middle;\n",
       "    }\n",
       "\n",
       "    .dataframe tbody tr th {\n",
       "        vertical-align: top;\n",
       "    }\n",
       "\n",
       "    .dataframe thead th {\n",
       "        text-align: right;\n",
       "    }\n",
       "</style>\n",
       "<table border=\"1\" class=\"dataframe\">\n",
       "  <thead>\n",
       "    <tr style=\"text-align: right;\">\n",
       "      <th></th>\n",
       "      <th>datetime</th>\n",
       "      <th>y</th>\n",
       "    </tr>\n",
       "  </thead>\n",
       "  <tbody>\n",
       "    <tr>\n",
       "      <th>0</th>\n",
       "      <td>2017-01-01 00:00:00+00:00</td>\n",
       "      <td>968.29</td>\n",
       "    </tr>\n",
       "    <tr>\n",
       "      <th>1</th>\n",
       "      <td>2017-01-01 01:00:00+00:00</td>\n",
       "      <td>968.00</td>\n",
       "    </tr>\n",
       "    <tr>\n",
       "      <th>2</th>\n",
       "      <td>2017-01-01 02:00:00+00:00</td>\n",
       "      <td>963.40</td>\n",
       "    </tr>\n",
       "    <tr>\n",
       "      <th>3</th>\n",
       "      <td>2017-01-01 03:00:00+00:00</td>\n",
       "      <td>964.26</td>\n",
       "    </tr>\n",
       "    <tr>\n",
       "      <th>4</th>\n",
       "      <td>2017-01-01 04:00:00+00:00</td>\n",
       "      <td>961.69</td>\n",
       "    </tr>\n",
       "  </tbody>\n",
       "</table>\n",
       "</div>"
      ],
      "text/plain": [
       "                   datetime       y\n",
       "0 2017-01-01 00:00:00+00:00  968.29\n",
       "1 2017-01-01 01:00:00+00:00  968.00\n",
       "2 2017-01-01 02:00:00+00:00  963.40\n",
       "3 2017-01-01 03:00:00+00:00  964.26\n",
       "4 2017-01-01 04:00:00+00:00  961.69"
      ]
     },
     "execution_count": 2,
     "metadata": {},
     "output_type": "execute_result"
    }
   ],
   "source": [
    "df=pd.read_csv('Bitcoin_bitmex_final.csv',usecols=['timestamp','close'],parse_dates=True)\n",
    "df.columns=['datetime','y']\n",
    "df['datetime']=pd.to_datetime(df['datetime'])\n",
    "df.head()"
   ]
  },
  {
   "cell_type": "code",
   "execution_count": 3,
   "metadata": {
    "colab": {
     "base_uri": "https://localhost:8080/"
    },
    "executionInfo": {
     "elapsed": 480,
     "status": "ok",
     "timestamp": 1624435224650,
     "user": {
      "displayName": "Shagun Bansal",
      "photoUrl": "https://lh3.googleusercontent.com/a-/AOh14GjqBi6cM9_0fHpvyYMvI8RIc3duBQwhLN5t1Kr14-g=s64",
      "userId": "17162832814633229121"
     },
     "user_tz": -330
    },
    "id": "SOUxHBTF7P3L",
    "outputId": "ef130e5f-b31e-4edc-952f-73585b51dd37"
   },
   "outputs": [
    {
     "name": "stdout",
     "output_type": "stream",
     "text": [
      "<class 'pandas.core.frame.DataFrame'>\n",
      "RangeIndex: 38772 entries, 0 to 38771\n",
      "Data columns (total 2 columns):\n",
      " #   Column    Non-Null Count  Dtype              \n",
      "---  ------    --------------  -----              \n",
      " 0   datetime  38772 non-null  datetime64[ns, UTC]\n",
      " 1   y         38772 non-null  float64            \n",
      "dtypes: datetime64[ns, UTC](1), float64(1)\n",
      "memory usage: 605.9 KB\n"
     ]
    }
   ],
   "source": [
    "df['datetime'].freq='H'\n",
    "df.info()"
   ]
  },
  {
   "cell_type": "code",
   "execution_count": 4,
   "metadata": {
    "id": "NHWXI9z-7Qzl"
   },
   "outputs": [],
   "source": [
    "import seaborn as sns"
   ]
  },
  {
   "cell_type": "code",
   "execution_count": 5,
   "metadata": {
    "colab": {
     "base_uri": "https://localhost:8080/",
     "height": 350
    },
    "executionInfo": {
     "elapsed": 22,
     "status": "ok",
     "timestamp": 1624435233454,
     "user": {
      "displayName": "Shagun Bansal",
      "photoUrl": "https://lh3.googleusercontent.com/a-/AOh14GjqBi6cM9_0fHpvyYMvI8RIc3duBQwhLN5t1Kr14-g=s64",
      "userId": "17162832814633229121"
     },
     "user_tz": -330
    },
    "id": "spc8GBGUBUvn",
    "outputId": "dd71cdda-33db-479c-b839-b9233c540d2b"
   },
   "outputs": [
    {
     "data": {
      "text/plain": [
       "<matplotlib.axes._subplots.AxesSubplot at 0x196e800e400>"
      ]
     },
     "execution_count": 5,
     "metadata": {},
     "output_type": "execute_result"
    },
    {
     "data": {
      "image/png": "[encoded data removed]",
      "text/plain": [
       "<Figure size 432x288 with 1 Axes>"
      ]
     },
     "metadata": {
      "needs_background": "light"
     },
     "output_type": "display_data"
    }
   ],
   "source": [
    "sns.boxplot(df['y'])"
   ]
  },
  {
   "cell_type": "markdown",
   "metadata": {
    "id": "dkNiu0-84sWK"
   },
   "source": [
    "Here ,since we have many outliers so we will use Mean Absolute Error to evaluate our model.\n",
    "MSE is a square of deviations and hence gives huge fluctuations to the loss function and adversely affects the convergence of SGD.But MAE ,being first order difference is less susceptible to fluctuations due to outliers."
   ]
  },
  {
   "cell_type": "code",
   "execution_count": 6,
   "metadata": {
    "colab": {
     "base_uri": "https://localhost:8080/",
     "height": 500
    },
    "executionInfo": {
     "elapsed": 840,
     "status": "ok",
     "timestamp": 1623582357962,
     "user": {
      "displayName": "Shagun Bansal",
      "photoUrl": "https://lh3.googleusercontent.com/a-/AOh14GjqBi6cM9_0fHpvyYMvI8RIc3duBQwhLN5t1Kr14-g=s64",
      "userId": "17162832814633229121"
     },
     "user_tz": -330
    },
    "id": "PHxL0bfADGtp",
    "outputId": "e3ce966f-00f9-4eb9-eb2c-d50689eb881c"
   },
   "outputs": [
    {
     "data": {
      "text/plain": [
       "<matplotlib.axes._subplots.AxesSubplot at 0x196e8121790>"
      ]
     },
     "execution_count": 6,
     "metadata": {},
     "output_type": "execute_result"
    },
    {
     "data": {
      "image/png": "[encoded data removed]",
      "text/plain": [
       "<Figure size 864x576 with 1 Axes>"
      ]
     },
     "metadata": {
      "needs_background": "light"
     },
     "output_type": "display_data"
    }
   ],
   "source": [
    "df['y'].plot(figsize=(12,8))"
   ]
  },
  {
   "cell_type": "markdown",
   "metadata": {
    "id": "SxHdgQAk44zu"
   },
   "source": [
    "### Scaling the data using MinMax Scaler"
   ]
  },
  {
   "cell_type": "code",
   "execution_count": 7,
   "metadata": {
    "id": "jyBXwK6lBYw1"
   },
   "outputs": [],
   "source": [
    "from sklearn.preprocessing import MinMaxScaler\n",
    "scaler=MinMaxScaler(feature_range=(0,1))\n",
    "df['scaled_y']=scaler.fit_transform(np.array(df['y']).reshape(-1,1))"
   ]
  },
  {
   "cell_type": "code",
   "execution_count": 8,
   "metadata": {
    "colab": {
     "base_uri": "https://localhost:8080/",
     "height": 500
    },
    "executionInfo": {
     "elapsed": 1109,
     "status": "ok",
     "timestamp": 1624435591253,
     "user": {
      "displayName": "Shagun Bansal",
      "photoUrl": "https://lh3.googleusercontent.com/a-/AOh14GjqBi6cM9_0fHpvyYMvI8RIc3duBQwhLN5t1Kr14-g=s64",
      "userId": "17162832814633229121"
     },
     "user_tz": -330
    },
    "id": "QEF9SAWQDNUR",
    "outputId": "6c40609e-54a2-42ad-ed86-905d6d198ea1"
   },
   "outputs": [
    {
     "data": {
      "text/plain": [
       "<matplotlib.axes._subplots.AxesSubplot at 0x196e827d1c0>"
      ]
     },
     "execution_count": 8,
     "metadata": {},
     "output_type": "execute_result"
    },
    {
     "data": {
      "image/png": "[encoded data removed]",
      "text/plain": [
       "<Figure size 864x576 with 1 Axes>"
      ]
     },
     "metadata": {
      "needs_background": "light"
     },
     "output_type": "display_data"
    }
   ],
   "source": [
    "df['scaled_y'].plot(figsize=(12,8))"
   ]
  },
  {
   "cell_type": "code",
   "execution_count": 9,
   "metadata": {
    "colab": {
     "base_uri": "https://localhost:8080/",
     "height": 80
    },
    "executionInfo": {
     "elapsed": 402,
     "status": "ok",
     "timestamp": 1624435602239,
     "user": {
      "displayName": "Shagun Bansal",
      "photoUrl": "https://lh3.googleusercontent.com/a-/AOh14GjqBi6cM9_0fHpvyYMvI8RIc3duBQwhLN5t1Kr14-g=s64",
      "userId": "17162832814633229121"
     },
     "user_tz": -330
    },
    "id": "wSJEqIVwEBfn",
    "outputId": "87f921cc-fbe5-4621-9b96-f7f91c8da858"
   },
   "outputs": [
    {
     "data": {
      "text/html": [
       "<div>\n",
       "<style scoped>\n",
       "    .dataframe tbody tr th:only-of-type {\n",
       "        vertical-align: middle;\n",
       "    }\n",
       "\n",
       "    .dataframe tbody tr th {\n",
       "        vertical-align: top;\n",
       "    }\n",
       "\n",
       "    .dataframe thead th {\n",
       "        text-align: right;\n",
       "    }\n",
       "</style>\n",
       "<table border=\"1\" class=\"dataframe\">\n",
       "  <thead>\n",
       "    <tr style=\"text-align: right;\">\n",
       "      <th></th>\n",
       "      <th>datetime</th>\n",
       "      <th>y</th>\n",
       "      <th>scaled_y</th>\n",
       "    </tr>\n",
       "  </thead>\n",
       "  <tbody>\n",
       "    <tr>\n",
       "      <th>36480</th>\n",
       "      <td>2021-03-01 00:00:00+00:00</td>\n",
       "      <td>45211.0</td>\n",
       "      <td>0.695688</td>\n",
       "    </tr>\n",
       "  </tbody>\n",
       "</table>\n",
       "</div>"
      ],
      "text/plain": [
       "                       datetime        y  scaled_y\n",
       "36480 2021-03-01 00:00:00+00:00  45211.0  0.695688"
      ]
     },
     "execution_count": 9,
     "metadata": {},
     "output_type": "execute_result"
    }
   ],
   "source": [
    "df[df['datetime']==\"2021-03-01 00:00:00+00:00\"]"
   ]
  },
  {
   "cell_type": "code",
   "execution_count": 10,
   "metadata": {
    "id": "f76ND6ljFNGT"
   },
   "outputs": [],
   "source": [
    "train=df.iloc[:37500]\n",
    "test=df.iloc[37500:]"
   ]
  },
  {
   "cell_type": "code",
   "execution_count": 11,
   "metadata": {
    "colab": {
     "base_uri": "https://localhost:8080/"
    },
    "executionInfo": {
     "elapsed": 14,
     "status": "ok",
     "timestamp": 1624435610571,
     "user": {
      "displayName": "Shagun Bansal",
      "photoUrl": "https://lh3.googleusercontent.com/a-/AOh14GjqBi6cM9_0fHpvyYMvI8RIc3duBQwhLN5t1Kr14-g=s64",
      "userId": "17162832814633229121"
     },
     "user_tz": -330
    },
    "id": "VLvJb8pFFNWj",
    "outputId": "1e11c6c3-862e-4462-9871-27a79133f006"
   },
   "outputs": [
    {
     "name": "stdout",
     "output_type": "stream",
     "text": [
      "(37500, 3)\n",
      "(1272, 3)\n"
     ]
    }
   ],
   "source": [
    "print(train.shape)\n",
    "print(test.shape)"
   ]
  },
  {
   "cell_type": "code",
   "execution_count": 12,
   "metadata": {
    "colab": {
     "base_uri": "https://localhost:8080/",
     "height": 503
    },
    "executionInfo": {
     "elapsed": 1183,
     "status": "ok",
     "timestamp": 1624435642330,
     "user": {
      "displayName": "Shagun Bansal",
      "photoUrl": "https://lh3.googleusercontent.com/a-/AOh14GjqBi6cM9_0fHpvyYMvI8RIc3duBQwhLN5t1Kr14-g=s64",
      "userId": "17162832814633229121"
     },
     "user_tz": -330
    },
    "id": "hNuR0AjiFNbr",
    "outputId": "fce16676-9e2d-4888-cb4d-6978f95fadc8"
   },
   "outputs": [
    {
     "data": {
      "text/plain": [
       "<matplotlib.axes._subplots.AxesSubplot at 0x196e82daf70>"
      ]
     },
     "execution_count": 12,
     "metadata": {},
     "output_type": "execute_result"
    },
    {
     "data": {
      "image/png": "[encoded data removed]",
      "text/plain": [
       "<Figure size 864x576 with 1 Axes>"
      ]
     },
     "metadata": {
      "needs_background": "light"
     },
     "output_type": "display_data"
    }
   ],
   "source": [
    "train['scaled_y'].plot(figsize=(12,8),label='Bitcoin Prices of train set',legend=True)"
   ]
  },
  {
   "cell_type": "code",
   "execution_count": 13,
   "metadata": {
    "colab": {
     "base_uri": "https://localhost:8080/",
     "height": 500
    },
    "executionInfo": {
     "elapsed": 713,
     "status": "ok",
     "timestamp": 1624435649928,
     "user": {
      "displayName": "Shagun Bansal",
      "photoUrl": "https://lh3.googleusercontent.com/a-/AOh14GjqBi6cM9_0fHpvyYMvI8RIc3duBQwhLN5t1Kr14-g=s64",
      "userId": "17162832814633229121"
     },
     "user_tz": -330
    },
    "id": "OXB-p4BaEp44",
    "outputId": "e0e965ac-299c-48b9-83eb-2b5e88c71edf"
   },
   "outputs": [
    {
     "data": {
      "text/plain": [
       "<matplotlib.axes._subplots.AxesSubplot at 0x196e8346760>"
      ]
     },
     "execution_count": 13,
     "metadata": {},
     "output_type": "execute_result"
    },
    {
     "data": {
      "image/png": "[encoded data removed]",
      "text/plain": [
       "<Figure size 864x576 with 1 Axes>"
      ]
     },
     "metadata": {
      "needs_background": "light"
     },
     "output_type": "display_data"
    }
   ],
   "source": [
    "test['scaled_y'].plot(figsize=(12,8),label='Bitcoin Prices of test set',legend=True)"
   ]
  },
  {
   "cell_type": "code",
   "execution_count": 14,
   "metadata": {
    "id": "Kq4DzEmLGFTY"
   },
   "outputs": [],
   "source": [
    "def makeXy(ts,nb_timesteps):\n",
    "    \"\"\"\n",
    "    Input:\n",
    "        ts:Original time series\n",
    "        nb_timesteps:no. of time steps in the regressors\n",
    "    Output:\n",
    "        X:2-D aarray of regressors\n",
    "        y:1-D array of target\n",
    "    \"\"\"\n",
    "    X=[]\n",
    "    y=[]\n",
    "    for i in range(nb_timesteps,ts.shape[0]):\n",
    "        X.append(list(ts.iloc[i-nb_timesteps:i]))\n",
    "        y.append(ts.iloc[i])\n",
    "    X,y=np.array(X),np.array(y)\n",
    "    return X,y"
   ]
  },
  {
   "cell_type": "code",
   "execution_count": 15,
   "metadata": {
    "colab": {
     "base_uri": "https://localhost:8080/"
    },
    "executionInfo": {
     "elapsed": 1876,
     "status": "ok",
     "timestamp": 1624435699598,
     "user": {
      "displayName": "Shagun Bansal",
      "photoUrl": "https://lh3.googleusercontent.com/a-/AOh14GjqBi6cM9_0fHpvyYMvI8RIc3duBQwhLN5t1Kr14-g=s64",
      "userId": "17162832814633229121"
     },
     "user_tz": -330
    },
    "id": "u6cKOGzGIH1N",
    "outputId": "933cee38-a835-4337-c311-fdf0db4466dc"
   },
   "outputs": [
    {
     "name": "stdout",
     "output_type": "stream",
     "text": [
      "Shape of train arrays: (37493, 7) (37493,)\n",
      "Shape of test arrays: (1265, 7) (1265,)\n"
     ]
    }
   ],
   "source": [
    "X_train,y_train=makeXy(train['scaled_y'],7)\n",
    "print(\"Shape of train arrays:\",X_train.shape, y_train.shape)\n",
    "X_test,y_test=makeXy(test['scaled_y'],7)\n",
    "print(\"Shape of test arrays:\",X_test.shape, y_test.shape)"
   ]
  },
  {
   "cell_type": "code",
   "execution_count": 16,
   "metadata": {
    "colab": {
     "base_uri": "https://localhost:8080/"
    },
    "executionInfo": {
     "elapsed": 391,
     "status": "ok",
     "timestamp": 1624435711715,
     "user": {
      "displayName": "Shagun Bansal",
      "photoUrl": "https://lh3.googleusercontent.com/a-/AOh14GjqBi6cM9_0fHpvyYMvI8RIc3duBQwhLN5t1Kr14-g=s64",
      "userId": "17162832814633229121"
     },
     "user_tz": -330
    },
    "id": "bGtujSetJURv",
    "outputId": "2d3d7d69-1fe1-43e8-ea8d-79bbc1008381"
   },
   "outputs": [
    {
     "data": {
      "text/plain": [
       "array([[0.00350731, 0.00350278, 0.00343081, ..., 0.00340405, 0.00340875,\n",
       "        0.00344755],\n",
       "       [0.00350278, 0.00343081, 0.00344426, ..., 0.00340875, 0.00344755,\n",
       "        0.00349918],\n",
       "       [0.00343081, 0.00344426, 0.00340405, ..., 0.00344755, 0.00349918,\n",
       "        0.00349495],\n",
       "       ...,\n",
       "       [0.92462204, 0.92211883, 0.93225684, ..., 0.93088789, 0.94129969,\n",
       "        0.94045486],\n",
       "       [0.92211883, 0.93225684, 0.92998048, ..., 0.94129969, 0.94045486,\n",
       "        0.93879648],\n",
       "       [0.93225684, 0.92998048, 0.93088789, ..., 0.94045486, 0.93879648,\n",
       "        0.92771977]])"
      ]
     },
     "execution_count": 16,
     "metadata": {},
     "output_type": "execute_result"
    }
   ],
   "source": [
    "X_train"
   ]
  },
  {
   "cell_type": "code",
   "execution_count": 17,
   "metadata": {
    "colab": {
     "base_uri": "https://localhost:8080/"
    },
    "executionInfo": {
     "elapsed": 409,
     "status": "ok",
     "timestamp": 1624435735488,
     "user": {
      "displayName": "Shagun Bansal",
      "photoUrl": "https://lh3.googleusercontent.com/a-/AOh14GjqBi6cM9_0fHpvyYMvI8RIc3duBQwhLN5t1Kr14-g=s64",
      "userId": "17162832814633229121"
     },
     "user_tz": -330
    },
    "id": "maqqWV0RLySv",
    "outputId": "30c63106-73ab-4eec-9d52-69a0ddf3c9df"
   },
   "outputs": [
    {
     "data": {
      "text/plain": [
       "array([0.00349918, 0.00349495, 0.0034646 , ..., 0.93879648, 0.92771977,\n",
       "       0.92323745])"
      ]
     },
     "execution_count": 17,
     "metadata": {},
     "output_type": "execute_result"
    }
   ],
   "source": [
    "y_train"
   ]
  },
  {
   "cell_type": "code",
   "execution_count": null,
   "metadata": {},
   "outputs": [],
   "source": [
    "import keras"
   ]
  },
  {
   "cell_type": "code",
   "execution_count": null,
   "metadata": {
    "id": "EeXqRsMgMhI8"
   },
   "outputs": [],
   "source": [
    "from keras.layers import Dense,Input,Dropout\n",
    "from keras.optimizers import SGD\n",
    "from keras.models import Model\n",
    "from keras.callbacks import ModelCheckpoint"
   ]
  },
  {
   "cell_type": "code",
   "execution_count": null,
   "metadata": {
    "id": "J2lgLJ2iNF-k"
   },
   "outputs": [],
   "source": [
    "input_layer=Input(shape=(7,),dtype='float32')"
   ]
  },
  {
   "cell_type": "code",
   "execution_count": null,
   "metadata": {
    "id": "ZYmv_ZXMNUhe"
   },
   "outputs": [],
   "source": [
    "dense1=Dense(32, activation='linear')(input_layer)\n",
    "dense2=Dense(16, activation='linear')(dense1)\n",
    "dense3=Dense(16, activation='linear')(dense2)"
   ]
  },
  {
   "cell_type": "code",
   "execution_count": null,
   "metadata": {
    "id": "be3QUrXSNzF1"
   },
   "outputs": [],
   "source": [
    "dropout_layer=Dropout(0.1)(dense3)"
   ]
  },
  {
   "cell_type": "markdown",
   "metadata": {},
   "source": [
    "#### Dropout Layer helps in avoiding overfitting"
   ]
  },
  {
   "cell_type": "code",
   "execution_count": null,
   "metadata": {
    "id": "LfHo_VRNNzRe"
   },
   "outputs": [],
   "source": [
    "output_layer=Dense(1,activation='linear')(dropout_layer)"
   ]
  },
  {
   "cell_type": "code",
   "execution_count": null,
   "metadata": {
    "colab": {
     "base_uri": "https://localhost:8080/"
    },
    "executionInfo": {
     "elapsed": 402,
     "status": "ok",
     "timestamp": 1624435896226,
     "user": {
      "displayName": "Shagun Bansal",
      "photoUrl": "https://lh3.googleusercontent.com/a-/AOh14GjqBi6cM9_0fHpvyYMvI8RIc3duBQwhLN5t1Kr14-g=s64",
      "userId": "17162832814633229121"
     },
     "user_tz": -330
    },
    "id": "Hpm7P8zyNzUa",
    "outputId": "8669858a-320d-4975-c82f-8b6ac565fa06"
   },
   "outputs": [
    {
     "name": "stdout",
     "output_type": "stream",
     "text": [
      "Model: \"model_1\"\n",
      "_________________________________________________________________\n",
      "Layer (type)                 Output Shape              Param #   \n",
      "=================================================================\n",
      "input_2 (InputLayer)         [(None, 7)]               0         \n",
      "_________________________________________________________________\n",
      "dense_4 (Dense)              (None, 32)                256       \n",
      "_________________________________________________________________\n",
      "dense_5 (Dense)              (None, 16)                528       \n",
      "_________________________________________________________________\n",
      "dense_6 (Dense)              (None, 16)                272       \n",
      "_________________________________________________________________\n",
      "dropout_1 (Dropout)          (None, 16)                0         \n",
      "_________________________________________________________________\n",
      "dense_7 (Dense)              (None, 1)                 17        \n",
      "=================================================================\n",
      "Total params: 1,073\n",
      "Trainable params: 1,073\n",
      "Non-trainable params: 0\n",
      "_________________________________________________________________\n"
     ]
    }
   ],
   "source": [
    "ts_model=Model(inputs=input_layer,outputs=output_layer)\n",
    "ts_model.compile(loss='mean_absolute_error',optimizer='adam')\n",
    "ts_model.summary()"
   ]
  },
  {
   "cell_type": "markdown",
   "metadata": {
    "id": "uL4nMqTuyZZO"
   },
   "source": [
    "#### Here we have a dataset(train set) with 37493 samples (rows of data) and we choose a batch size of 16 and 20 epochs.\n",
    "\n",
    "#### This means that the dataset will be divided into 37493/16 =2344 batches, each with 16 samples. The model weights will be updated after each batch of 16 samples.\n",
    "\n",
    "#### This also means that one epoch will involve 2344 batches or 2344 updates to the model.\n",
    "\n",
    "#### With 20 epochs, the model will be exposed to or pass through the whole dataset 20 times. That is a total of 2344*20=46880 batches during the entire training process"
   ]
  },
  {
   "cell_type": "code",
   "execution_count": null,
   "metadata": {
    "colab": {
     "base_uri": "https://localhost:8080/"
    },
    "executionInfo": {
     "elapsed": 83073,
     "status": "ok",
     "timestamp": 1624435990682,
     "user": {
      "displayName": "Shagun Bansal",
      "photoUrl": "https://lh3.googleusercontent.com/a-/AOh14GjqBi6cM9_0fHpvyYMvI8RIc3duBQwhLN5t1Kr14-g=s64",
      "userId": "17162832814633229121"
     },
     "user_tz": -330
    },
    "id": "Fi6TPU2CO95T",
    "outputId": "9d02fa34-650b-4f52-b876-4df212cf366d"
   },
   "outputs": [
    {
     "name": "stdout",
     "output_type": "stream",
     "text": [
      "Epoch 1/20\n",
      "2344/2344 [==============================] - 5s 2ms/step - loss: 0.0154 - val_loss: 0.0179\n",
      "Epoch 2/20\n",
      "2344/2344 [==============================] - 3s 1ms/step - loss: 0.0074 - val_loss: 0.0291\n",
      "Epoch 3/20\n",
      "2344/2344 [==============================] - 3s 1ms/step - loss: 0.0073 - val_loss: 0.0143\n",
      "Epoch 4/20\n",
      "2344/2344 [==============================] - 3s 1ms/step - loss: 0.0067 - val_loss: 0.0229\n",
      "Epoch 5/20\n",
      "2344/2344 [==============================] - 3s 1ms/step - loss: 0.0068 - val_loss: 0.0296\n",
      "Epoch 6/20\n",
      "2344/2344 [==============================] - 3s 1ms/step - loss: 0.0068 - val_loss: 0.0162\n",
      "Epoch 7/20\n",
      "2344/2344 [==============================] - 3s 1ms/step - loss: 0.0068 - val_loss: 0.0245\n",
      "Epoch 8/20\n",
      "2344/2344 [==============================] - 3s 1ms/step - loss: 0.0066 - val_loss: 0.0232\n",
      "Epoch 9/20\n",
      "2344/2344 [==============================] - 3s 1ms/step - loss: 0.0066 - val_loss: 0.0123\n",
      "Epoch 10/20\n",
      "2344/2344 [==============================] - 3s 1ms/step - loss: 0.0066 - val_loss: 0.0176\n",
      "Epoch 11/20\n",
      "2344/2344 [==============================] - 3s 1ms/step - loss: 0.0065 - val_loss: 0.0082\n",
      "Epoch 12/20\n",
      "2344/2344 [==============================] - 3s 1ms/step - loss: 0.0066 - val_loss: 0.0074\n",
      "Epoch 13/20\n",
      "2344/2344 [==============================] - 3s 1ms/step - loss: 0.0064 - val_loss: 0.0083\n",
      "Epoch 14/20\n",
      "2344/2344 [==============================] - 3s 1ms/step - loss: 0.0065 - val_loss: 0.0290\n",
      "Epoch 15/20\n",
      "2344/2344 [==============================] - 3s 1ms/step - loss: 0.0065 - val_loss: 0.0152\n",
      "Epoch 16/20\n",
      "2344/2344 [==============================] - 3s 1ms/step - loss: 0.0065 - val_loss: 0.0086\n",
      "Epoch 17/20\n",
      "2344/2344 [==============================] - 3s 1ms/step - loss: 0.0066 - val_loss: 0.0204\n",
      "Epoch 18/20\n",
      "2344/2344 [==============================] - 3s 1ms/step - loss: 0.0065 - val_loss: 0.0247\n",
      "Epoch 19/20\n",
      "2344/2344 [==============================] - 3s 1ms/step - loss: 0.0064 - val_loss: 0.0300\n",
      "Epoch 20/20\n",
      "2344/2344 [==============================] - 3s 1ms/step - loss: 0.0066 - val_loss: 0.0112\n"
     ]
    }
   ],
   "source": [
    "best_model=ts_model.fit(x=X_train,y=y_train,batch_size=16,epochs=20,verbose=1,validation_data=(X_test,y_test),shuffle=True)"
   ]
  },
  {
   "cell_type": "code",
   "execution_count": null,
   "metadata": {
    "id": "VuEcrVpqPpaL"
   },
   "outputs": [],
   "source": [
    "preds=ts_model.predict(X_test)"
   ]
  },
  {
   "cell_type": "code",
   "execution_count": null,
   "metadata": {
    "colab": {
     "base_uri": "https://localhost:8080/"
    },
    "executionInfo": {
     "elapsed": 374,
     "status": "ok",
     "timestamp": 1624436009649,
     "user": {
      "displayName": "Shagun Bansal",
      "photoUrl": "https://lh3.googleusercontent.com/a-/AOh14GjqBi6cM9_0fHpvyYMvI8RIc3duBQwhLN5t1Kr14-g=s64",
      "userId": "17162832814633229121"
     },
     "user_tz": -330
    },
    "id": "3fHLdCy8Qp2R",
    "outputId": "2118c08f-23a1-4b0c-a085-ffc511ec2eb0"
   },
   "outputs": [
    {
     "data": {
      "text/plain": [
       "array([[0.91365564],\n",
       "       [0.9134815 ],\n",
       "       [0.9139911 ],\n",
       "       ...,\n",
       "       [0.55875665],\n",
       "       [0.5581638 ],\n",
       "       [0.5573767 ]], dtype=float32)"
      ]
     },
     "execution_count": 59,
     "metadata": {
      "tags": []
     },
     "output_type": "execute_result"
    }
   ],
   "source": [
    "preds"
   ]
  },
  {
   "cell_type": "code",
   "execution_count": null,
   "metadata": {
    "colab": {
     "base_uri": "https://localhost:8080/"
    },
    "executionInfo": {
     "elapsed": 634,
     "status": "ok",
     "timestamp": 1624436018243,
     "user": {
      "displayName": "Shagun Bansal",
      "photoUrl": "https://lh3.googleusercontent.com/a-/AOh14GjqBi6cM9_0fHpvyYMvI8RIc3duBQwhLN5t1Kr14-g=s64",
      "userId": "17162832814633229121"
     },
     "user_tz": -330
    },
    "id": "70OVWt5rRLBb",
    "outputId": "eb37284d-3a59-4eba-cb15-aff44ce8dcf0"
   },
   "outputs": [
    {
     "name": "stdout",
     "output_type": "stream",
     "text": [
      "The Mean Absolute Error is: 0.011228421282701488\n"
     ]
    }
   ],
   "source": [
    "from sklearn.metrics import mean_absolute_error\n",
    "error=mean_absolute_error(y_test,preds)\n",
    "print(\"The Mean Absolute Error is:\",error)"
   ]
  },
  {
   "cell_type": "code",
   "execution_count": null,
   "metadata": {
    "colab": {
     "base_uri": "https://localhost:8080/"
    },
    "executionInfo": {
     "elapsed": 380,
     "status": "ok",
     "timestamp": 1624436021972,
     "user": {
      "displayName": "Shagun Bansal",
      "photoUrl": "https://lh3.googleusercontent.com/a-/AOh14GjqBi6cM9_0fHpvyYMvI8RIc3duBQwhLN5t1Kr14-g=s64",
      "userId": "17162832814633229121"
     },
     "user_tz": -330
    },
    "id": "gtEDdkNlRreu",
    "outputId": "c732fca2-e431-4693-c3d2-db36a63a8059"
   },
   "outputs": [
    {
     "name": "stdout",
     "output_type": "stream",
     "text": [
      "The Mean Squared Error is: 0.011228421282701488\n"
     ]
    }
   ],
   "source": [
    "from sklearn.metrics import mean_squared_error\n",
    "error1=mean_absolute_error(y_test,preds)\n",
    "print(\"The Mean Squared Error is:\",error1)"
   ]
  },
  {
   "cell_type": "code",
   "execution_count": null,
   "metadata": {
    "id": "qPcv3wwOR08f"
   },
   "outputs": [],
   "source": [
    "true_predictions=scaler.inverse_transform(preds)\n",
    "true_predictions\n",
    "y_test=scaler.inverse_transform(y_test.reshape(-1,1))"
   ]
  },
  {
   "cell_type": "code",
   "execution_count": null,
   "metadata": {
    "id": "e_kBDqEuS3ns"
   },
   "outputs": [],
   "source": [
    "y_test=pd.Series(y_test.flatten())\n",
    "predictions=pd.Series(true_predictions.flatten())"
   ]
  },
  {
   "cell_type": "code",
   "execution_count": null,
   "metadata": {
    "colab": {
     "base_uri": "https://localhost:8080/",
     "height": 500
    },
    "executionInfo": {
     "elapsed": 846,
     "status": "ok",
     "timestamp": 1624436105156,
     "user": {
      "displayName": "Shagun Bansal",
      "photoUrl": "https://lh3.googleusercontent.com/a-/AOh14GjqBi6cM9_0fHpvyYMvI8RIc3duBQwhLN5t1Kr14-g=s64",
      "userId": "17162832814633229121"
     },
     "user_tz": -330
    },
    "id": "3JVNIzASSPLG",
    "outputId": "2d66cb85-81d1-4784-e3b0-b1a090d03ea8"
   },
   "outputs": [
    {
     "data": {
      "text/plain": [
       "<matplotlib.axes._subplots.AxesSubplot at 0x7f82bcd9e290>"
      ]
     },
     "execution_count": 68,
     "metadata": {
      "tags": []
     },
     "output_type": "execute_result"
    },
    {
     "data": {
      "image/png": "[encoded data removed]",
      "text/plain": [
       "<Figure size 864x576 with 1 Axes>"
      ]
     },
     "metadata": {
      "needs_background": "light",
      "tags": []
     },
     "output_type": "display_data"
    }
   ],
   "source": [
    "y_test.plot(figsize=(12,8),label='True Bitcoin Prices',legend=True)\n",
    "predictions.plot(label='Predicted Bitcoin Prices',legend=True)\n"
   ]
  },
  {
   "cell_type": "code",
   "execution_count": null,
   "metadata": {
    "colab": {
     "base_uri": "https://localhost:8080/",
     "height": 401
    },
    "executionInfo": {
     "elapsed": 409,
     "status": "error",
     "timestamp": 1624436834423,
     "user": {
      "displayName": "Shagun Bansal",
      "photoUrl": "https://lh3.googleusercontent.com/a-/AOh14GjqBi6cM9_0fHpvyYMvI8RIc3duBQwhLN5t1Kr14-g=s64",
      "userId": "17162832814633229121"
     },
     "user_tz": -330
    },
    "id": "j5OSfcZsZEsc",
    "outputId": "39755e50-1e24-4ba6-c256-eae7b28ab891"
   },
   "outputs": [],
   "source": []
  },
  {
   "cell_type": "code",
   "execution_count": null,
   "metadata": {
    "id": "94QC49IX-ORu"
   },
   "outputs": [],
   "source": []
  }
 ],
 "metadata": {
  "colab": {
   "authorship_tag": "ABX9TyNTQ/Zjom0xJsKnSb1VUhE0",
   "collapsed_sections": [],
   "name": "Copy of Bitcoin DL.ipynb",
   "provenance": [
    {
     "file_id": "1SoCoCJJbat37V3A7bbOnsv_SWxbedew0",
     "timestamp": 1624435137399
    }
   ]
  },
  "kernelspec": {
   "display_name": "Python 3",
   "language": "python",
   "name": "python3"
  },
  "language_info": {
   "codemirror_mode": {
    "name": "ipython",
    "version": 3
   },
   "file_extension": ".py",
   "mimetype": "text/x-python",
   "name": "python",
   "nbconvert_exporter": "python",
   "pygments_lexer": "ipython3",
   "version": "3.8.3"
  }
 },
 "nbformat": 4,
 "nbformat_minor": 1
}
